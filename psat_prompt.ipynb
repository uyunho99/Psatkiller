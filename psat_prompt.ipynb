{
 "cells": [
  {
   "cell_type": "code",
   "execution_count": 1,
   "metadata": {},
   "outputs": [],
   "source": [
    "import os\n",
    "import json\n",
    "\n",
    "psat_json_path = os.path.abspath(os.path.join(os.getcwd(), '..', 'PSAT/Data/2023_PSAT.json'))\n",
    "psat_json = json.load(open(psat_json_path))"
   ]
  },
  {
   "cell_type": "code",
   "execution_count": 2,
   "metadata": {},
   "outputs": [
    {
     "data": {
      "text/plain": [
       "{'id': '2023_PSAT_34',\n",
       " 'paragraph': '부서에서 검토 중인 과제를 여섯 개의 범주, ‘중점 추진 과제’, ‘타 부서와 협의가 필요한 과제’, ‘많은 예산이 필요한 과제’, ‘장기 시행 과제’, ‘인력 재배치가 필요한 과제’, ‘즉각적인 효과가 나타나는 과제’로 나누어 검토해 본 결과는 다음과 같다.○중점 추진 과제 가운데 인력 재배치가 필요한 과제는 없지만 장기 시행 과제는 있다.○타 부서와 협의가 필요한 과제 가운데 즉각적인 효과가 나타나는 과제는 없다.○많은 예산이 필요한 과제 가운데 즉각적인 효과가 나타나는 과제가 있다.○장기 시행 과제 가운데 타 부서와 협의가 필요하지 않은 과제는 모두 인력 재배치가 필요한 과제이다.○인력 재배치가 필요한 과제 가운데 많은 예산이 필요한 과제는 없다.',\n",
       " 'problems': [{'question': '34. 다음 글의 내용이 참일 때 반드시 참인 것만을 에서 모두 고르면 ?',\n",
       "   'choices': ['① ㄱ', '② ㄷ', '③ ㄱ, ㄴ', '④ ㄴ, ㄷ', '⑤ ㄱ, ㄴ, ㄷ'],\n",
       "   'additional': 'ㄱ.장기 시행 과제이면서 즉각적인 효과가 나타나는 과제 가운데는 많은 예산이 필요한 과제가 없다.ㄴ.인력 재배치가 필요하지 않은 과제 가운데 즉각적인 효과가 나타나지 않는 과제가 있다.ㄷ.장기 시행 과제가 아니면서 많은 예산이 필요한 과제가 있다.'}]}"
      ]
     },
     "execution_count": 2,
     "metadata": {},
     "output_type": "execute_result"
    }
   ],
   "source": [
    "psat_json[33]"
   ]
  },
  {
   "cell_type": "code",
   "execution_count": 3,
   "metadata": {},
   "outputs": [],
   "source": [
    "basic_prompt = \"\"\"Let’s think step by step.\n",
    "다음 지문을 읽고, 질문에 대한 답을 1부터 5까지 중에 한 개만 골라서 대답하시오.\n",
    "지문: {}\n",
    "질문: {}\n",
    "선택지: 1번: {}, 2번: {}, 3번: {}, 4번: {}, 5번: {}\n",
    "1번, 2번, 3번, 4번, 5번 중에서 한 개의 답을 고르시오. 정답:\n",
    "\"\"\"\n",
    "    \n",
    "basic_additional_prompt = \"\"\"Let’s think step by step.\n",
    "다음 지문을 읽고, 질문에 대한 답을 1부터 5까지 중에 한 개만 골라서 대답하시오.\n",
    "지문: {}\n",
    "질문: {}\n",
    "보기: {}\n",
    "선택지: 1번: {}, 2번: {}, 3번: {}, 4번: {}, 5번: {}\n",
    "1번, 2번, 3번, 4번, 5번 중에서 한 개의 답을 고르시오. 정답:\n",
    "\"\"\""
   ]
  },
  {
   "cell_type": "code",
   "execution_count": 4,
   "metadata": {},
   "outputs": [],
   "source": [
    "def get_prompt(question, additional=False):\n",
    "    # Assuming there's only one problem per paragraph for simplification\n",
    "    problem = question['problems'][0]\n",
    "    \n",
    "    if 'additional' in problem.keys():\n",
    "        additional = True\n",
    "    \n",
    "    if additional:\n",
    "        return basic_additional_prompt.format(question['paragraph'], \n",
    "                                              problem['question'], \n",
    "                                              problem['additional'], \n",
    "                                              problem['choices'][0], \n",
    "                                              problem['choices'][1],\n",
    "                                              problem['choices'][2],\n",
    "                                              problem['choices'][3],\n",
    "                                              problem['choices'][4])\n",
    "    else:\n",
    "        return basic_prompt.format(question['paragraph'], \n",
    "                                   problem['question'], \n",
    "                                   problem['choices'][0], \n",
    "                                   problem['choices'][1],\n",
    "                                   problem['choices'][2],\n",
    "                                   problem['choices'][3],\n",
    "                                   problem['choices'][4])"
   ]
  },
  {
   "cell_type": "code",
   "execution_count": 5,
   "metadata": {},
   "outputs": [],
   "source": [
    "basic_prompt_input = [get_prompt(question) for question in psat_json]"
   ]
  },
  {
   "cell_type": "code",
   "execution_count": 11,
   "metadata": {},
   "outputs": [
    {
     "name": "stdout",
     "output_type": "stream",
     "text": [
      "Let’s think step by step.\n",
      "다음 지문을 읽고, 질문에 대한 답을 1부터 5까지 중에 한 개만 골라서 대답하시오.\n",
      "지문: 앎을 추구하는 사람이라면, 어떤 명제 P가 거짓인 경우에 그 명제를 믿지 않아야 한다. 이 직관을 설명하기 위해 민감성 조건이 제시되었다. 이에 따르면, 명제 P에 대한 믿음이 ‘민감하다’면, P가 거짓인 가상의 경우에는 P를 믿지 않아야 한다. 민감성 조건을 옹호하는 철학자는, 명제 “지구는 자전한다.”를 우리가 안다고 할 수 있는 이유는 그 명제가 참일 뿐만 아니라 민감성 조건을 충족하기 때문이라고 생각한다. 즉, “지구는 자전한다.”가 거짓인 가상의 경우에 우리는 그 명제를 믿지 않을 것이기 때문이라는 것이다.  일견 그럴듯해 보이는 민감성 조건의 문제점은 다음과 같은 상황을 고려할 때 잘 드러난다. 철이는 지금 자신의 손자인 민수가 마당에서 건강하게 뛰어놀고 있는 모습을 직접 지켜보면서 “민수가 건강하다.”라는 명제 Q를 믿고 있다고 하자. 철이가 Q를 안다고 하려면, Q에 대한 철이의 믿음은 민감성 조건을 충족해야 한다. 하지만 다음과 같은 가상의 경우를 상상해보자. 민수가 크게 다쳐서 병원에 입원했는데, 철이가 매우 신뢰하는 자신의 아들이 “민수가 친구 집에서 건강하게 놀고 있다.”라고 철이에게 알려줬다. 이 경우, 철이는 Q를 믿을 것이다. 따라서 Q에 대한 철이의 믿음은 민감성 조건을 충족하지 못하는 것이다.  그러나 지금 마당에서 건강하게 뛰어놀고 있는 모습을 직접 지켜보는 철이가 Q를 알지 못한다고 말하는 것은 분명 잘못이다. 따라서, “ ”라고 결론지을 수 있다.\n",
      "질문: 28. 다음 글의 빈칸에 들어갈 내용으로 가장 적절한 것은?\n",
      "선택지: 1번: ① 어떤 경우에서도 참인 명제만이 앎의 대상일 수 있다., 2번: ② 어떤 명제가 앎의 대상이라고 해서 그 명제에 대한 믿음이 민감할 필요는 없다., 3번: ③ 어떤 명제에 대한 믿음이 민감하다는 것은 그 명제를 알기 위한 충분 조건이 아니다., 4번: ④ 믿음의 대상이 되는 명제가 참이라는 것은 그 명제를 안다고 하는 것을 보장하지 않는다., 5번: ⑤ 어떤 명제가 앎의 대상이라고 해서 믿음의 대상이 되는 그 명제가 반드시 참일 필요는 없다.\n",
      "1번, 2번, 3번, 4번, 5번 중에서 한 개의 답을 고르시오. 정답:\n",
      "\n"
     ]
    }
   ],
   "source": [
    "print(basic_prompt_input[27])"
   ]
  },
  {
   "cell_type": "code",
   "execution_count": null,
   "metadata": {},
   "outputs": [],
   "source": [
    "instruct_prompt = \"\"\"Let's think step by step.\n",
    "다음 지문을 읽고, 질문에 대한 답을 1부터 5까지 중에 한 개만 골라서 대답하시오.\n",
    "지문: {}\n",
    "질문: {}\n",
    "선택지: 1번: {}, 2번: {}, 3번: {}, 4번: {}, 5번: {}\n",
    "유의사항:\n",
    "지문을 읽을 때 지문의 모든 내용을 정확히 파악하고 분석해야 한다. \n",
    "지문의 주장이나 근거를 대충 넘기지 말고 각각의 문장을 세심하게 살펴봐야 한다.\n",
    "문제를 풀기 전, 지문의 소재와 주장이 어떤 도메인에 해당하는 내용인지 정리해야 한다.\n",
    "문제를 풀 때, 지문에서 명시되어 있는 직접적인 근거를 중심으로 푸는 것이 우선이다.\n",
    "하지만 지문으로만 추론이 되지 않는 경우에는 기본적인 상식을 바탕으로 간접적인 추론해서 문제를 풀어야 한다. \n",
    "그럼에도 지문의 내용을 기반으로 너무 복잡한 추론이나 가정을 하는 것은 위험하므로 최소한의 상식을 가지고 추론한다.\n",
    "마지막으로 선택한 답안이 지문과 보기의 내용에 잘 맞는지 다시 한 번 점검한다.\n",
    "유의사항의 지시를 따라 1번, 2번, 3번, 4번, 5번 중에서 한 개의 답을 고르시오. 정답:\n",
    "\"\"\"\n",
    "    \n",
    "basic_instruct_prompt = \"\"\"Let's think step by step.\n",
    "다음 지문을 읽고, 질문에 대한 답을 1부터 5까지 중에 한 개만 골라서 대답하시오.\n",
    "지문: {}\n",
    "질문: {}\n",
    "보기: {}\n",
    "선택지: 1번: {}, 2번: {}, 3번: {}, 4번: {}, 5번: {}\n",
    "유의사항:\n",
    "지문을 읽을 때 지문의 모든 내용을 정확히 파악하고 분석해야 한다. \n",
    "지문의 주장이나 근거를 대충 넘기지 말고 각각의 문장을 세심하게 살펴봐야 한다.\n",
    "문제를 풀기 전, 지문의 소재와 주장이 어떤 도메인에 해당하는 내용인지 정리해야 한다.\n",
    "문제를 풀 때, 지문에서 명시되어 있는 직접적인 근거를 중심으로 푸는 것이 우선이다.\n",
    "하지만 지문으로만 추론이 되지 않는 경우에는 기본적인 상식을 바탕으로 간접적인 추론해서 문제를 풀어야 한다. \n",
    "그럼에도 지문의 내용을 기반으로 너무 복잡한 추론이나 가정을 하는 것은 위험하므로 최소한의 상식을 가지고 추론한다.\n",
    "마지막으로 선택한 답안이 지문과 보기의 내용에 잘 맞는지 다시 한 번 점검한다.\n",
    "유의사항의 지시를 따라 1번, 2번, 3번, 4번, 5번 중에서 한 개의 답을 고르시오. 정답:\n",
    "\"\"\""
   ]
  }
 ],
 "metadata": {
  "kernelspec": {
   "display_name": "nlp",
   "language": "python",
   "name": "python3"
  },
  "language_info": {
   "codemirror_mode": {
    "name": "ipython",
    "version": 3
   },
   "file_extension": ".py",
   "mimetype": "text/x-python",
   "name": "python",
   "nbconvert_exporter": "python",
   "pygments_lexer": "ipython3",
   "version": "3.8.16"
  },
  "orig_nbformat": 4
 },
 "nbformat": 4,
 "nbformat_minor": 2
}
